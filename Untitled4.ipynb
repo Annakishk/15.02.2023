{
  "nbformat": 4,
  "nbformat_minor": 0,
  "metadata": {
    "colab": {
      "provenance": [],
      "authorship_tag": "ABX9TyPfbySPqMhXujY6ypMvS83d",
      "include_colab_link": true
    },
    "kernelspec": {
      "name": "python3",
      "display_name": "Python 3"
    },
    "language_info": {
      "name": "python"
    }
  },
  "cells": [
    {
      "cell_type": "markdown",
      "metadata": {
        "id": "view-in-github",
        "colab_type": "text"
      },
      "source": [
        "<a href=\"https://colab.research.google.com/github/Annakishk/15.02.2023/blob/main/Untitled4.ipynb\" target=\"_parent\"><img src=\"https://colab.research.google.com/assets/colab-badge.svg\" alt=\"Open In Colab\"/></a>"
      ]
    },
    {
      "cell_type": "code",
      "source": [
        "import random\n",
        "\n",
        "weather_list = ['солнечно', 'облачно', 'дождь', 'снег']\n",
        "names_list = ['Иванов', 'Петров', 'Сидоров', 'Козлов', 'Новиков']\n",
        "\n",
        "races_result = {}\n",
        "for i in range(3):\n",
        "    weather = random.choice(weather_list)\n",
        "    names = random.sample(names_list, len(names_list))\n",
        "    scores = [1 if i == 0 else -1 if i == len(names) - 1 else 0 for i in range(len(names))]\n",
        "\n",
        "    if weather in races_result:\n",
        "        existing_names = races_result[weather]['names']\n",
        "        existing_scores = races_result[weather]['scores']\n",
        "\n",
        "        for i, name in enumerate(names):\n",
        "            if name in existing_names:\n",
        "                index = existing_names.index(name)\n",
        "                existing_scores[index] += scores[i]\n",
        "            else:\n",
        "                existing_names.append(name)\n",
        "                existing_scores.append(scores[i])\n",
        "    else:\n",
        "        races_result[weather] = {'names': names, 'scores': scores}\n",
        "\n",
        "print(races_result)"
      ],
      "metadata": {
        "colab": {
          "base_uri": "https://localhost:8080/"
        },
        "id": "rs4b0YsdecGa",
        "outputId": "c0ff5dd2-545d-49e4-ab5e-c4c309a8bd62"
      },
      "execution_count": 103,
      "outputs": [
        {
          "output_type": "stream",
          "name": "stdout",
          "text": [
            "{'облачно': {'names': ['Сидоров', 'Новиков', 'Козлов', 'Иванов', 'Петров'], 'scores': [1, 0, 0, 0, -1]}, 'солнечно': {'names': ['Иванов', 'Петров', 'Сидоров', 'Козлов', 'Новиков'], 'scores': [1, 0, -1, 1, -1]}}\n"
          ]
        }
      ]
    },
    {
      "cell_type": "code",
      "source": [
        "for i in range(17):\n",
        "    weather = random.choice(weather_list)\n",
        "    names = random.sample(names_list, len(names_list))\n",
        "    scores = [1 if i == 0 else -1 if i == len(names) - 1 else 0 for i in range(len(names))]\n",
        "\n",
        "    if weather in races_result:\n",
        "        existing_names = races_result[weather]['names']\n",
        "        existing_scores = races_result[weather]['scores']\n",
        "\n",
        "        for i, name in enumerate(names):\n",
        "            if name in existing_names:\n",
        "                index = existing_names.index(name)\n",
        "                existing_scores[index] += scores[i]\n",
        "            else:\n",
        "                existing_names.append(name)\n",
        "                existing_scores.append(scores[i])\n",
        "    else:\n",
        "        races_result[weather] = {'names': names, 'scores': scores}\n",
        "print(races_result)"
      ],
      "metadata": {
        "colab": {
          "base_uri": "https://localhost:8080/"
        },
        "id": "DRtQZgcY2Wee",
        "outputId": "ddb86fcd-ea74-42a6-8fd5-296e3f07e9d6"
      },
      "execution_count": 107,
      "outputs": [
        {
          "output_type": "stream",
          "name": "stdout",
          "text": [
            "{'облачно': {'names': ['Сидоров', 'Новиков', 'Козлов', 'Иванов', 'Петров'], 'scores': [4, -3, 0, 0, -1]}, 'солнечно': {'names': ['Иванов', 'Петров', 'Сидоров', 'Козлов', 'Новиков'], 'scores': [0, 2, -2, 4, -4]}, 'дождь': {'names': ['Новиков', 'Петров', 'Сидоров', 'Козлов', 'Иванов'], 'scores': [4, -1, -3, -2, 2]}, 'снег': {'names': ['Козлов', 'Петров', 'Новиков', 'Иванов', 'Сидоров'], 'scores': [3, 1, -2, -3, 1]}}\n"
          ]
        }
      ]
    },
    {
      "cell_type": "code",
      "source": [],
      "metadata": {
        "id": "MzZsH3gl6vbD"
      },
      "execution_count": null,
      "outputs": []
    }
  ]
}