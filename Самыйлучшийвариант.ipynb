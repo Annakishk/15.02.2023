{
  "cells": [
    {
      "cell_type": "markdown",
      "metadata": {
        "id": "view-in-github",
        "colab_type": "text"
      },
      "source": [
        "<a href=\"https://colab.research.google.com/github/Annakishk/15.02.2023/blob/main/%D0%A1%D0%B0%D0%BC%D1%8B%D0%B9%D0%BB%D1%83%D1%87%D1%88%D0%B8%D0%B9%D0%B2%D0%B0%D1%80%D0%B8%D0%B0%D0%BD%D1%82.ipynb\" target=\"_parent\"><img src=\"https://colab.research.google.com/assets/colab-badge.svg\" alt=\"Open In Colab\"/></a>"
      ]
    },
    {
      "cell_type": "code",
      "execution_count": 9,
      "metadata": {
        "colab": {
          "base_uri": "https://localhost:8080/"
        },
        "id": "rs4b0YsdecGa",
        "outputId": "2673c09e-751e-45ab-8088-f4a70df5f6eb"
      },
      "outputs": [
        {
          "output_type": "stream",
          "name": "stdout",
          "text": [
            "Погода: дождь\n",
            "Иванов: 1\n",
            "Петров: 0\n",
            "Сидоров: 0\n",
            "Козлов: 0\n",
            "Новиков: -1\n",
            "Погода: снег\n",
            "Петров: 1\n",
            "Иванов: 0\n",
            "Козлов: 0\n",
            "Новиков: 0\n",
            "Сидоров: -1\n",
            "Погода: солнечно\n",
            "Петров: 1\n",
            "Иванов: 0\n",
            "Сидоров: 0\n",
            "Козлов: 0\n",
            "Новиков: -1\n",
            "{'дождь': {'Иванов': 1, 'Петров': 0, 'Сидоров': 0, 'Козлов': 0, 'Новиков': -1}, 'снег': {'Петров': 1, 'Иванов': 0, 'Козлов': 0, 'Новиков': 0, 'Сидоров': -1}, 'солнечно': {'Петров': 1, 'Иванов': 0, 'Сидоров': 0, 'Козлов': 0, 'Новиков': -1}}\n"
          ]
        }
      ],
      "source": [
        "import random\n",
        "\n",
        "weather_list = ['солнечно', 'облачно', 'дождь', 'снег']\n",
        "names_list = ['Иванов', 'Петров', 'Сидоров', 'Козлов', 'Новиков']\n",
        "races_result = {}\n",
        "for i in range(3):\n",
        "    weather = random.choice(weather_list)\n",
        "    names = random.sample(names_list, len(names_list))\n",
        "    scores = [1 if i == 0 else -1 if i == len(names) - 1 else 0 for i in range(len(names))]\n",
        "    results = dict(zip(names, scores))\n",
        "    races = {weather: results}   # содержит элемет с конкретными данными\n",
        "    if weather in races_result:\n",
        "      for names, points in results.items():\n",
        "        races_result[weather][names] += points\n",
        "\n",
        "    else:\n",
        "      races_result.update(races)\n",
        "\n",
        "for weather, results in races_result.items():\n",
        "    print(f\"Погода: {weather}\")\n",
        "    for name, score in results.items():\n",
        "        print(f\"{name}: {score}\")\n",
        "\n",
        "print(races_result)"
      ]
    },
    {
      "cell_type": "code",
      "execution_count": 10,
      "metadata": {
        "colab": {
          "base_uri": "https://localhost:8080/"
        },
        "id": "ga5nl1ubUJPl",
        "outputId": "130a957e-459e-4ba4-ec09-b1b188c39dfb"
      },
      "outputs": [
        {
          "output_type": "stream",
          "name": "stdout",
          "text": [
            "Окончательные результаты:\n",
            "Погода: дождь\n",
            "Иванов: 3\n",
            "Петров: 0\n",
            "Сидоров: -2\n",
            "Козлов: 1\n",
            "Новиков: -2\n",
            "Погода: снег\n",
            "Петров: 0\n",
            "Иванов: 1\n",
            "Козлов: 1\n",
            "Новиков: -1\n",
            "Сидоров: -1\n",
            "Погода: солнечно\n",
            "Петров: 0\n",
            "Иванов: 0\n",
            "Сидоров: 0\n",
            "Козлов: 1\n",
            "Новиков: -1\n",
            "Погода: облачно\n",
            "Иванов: 4\n",
            "Сидоров: 0\n",
            "Козлов: -1\n",
            "Новиков: 0\n",
            "Петров: -3\n",
            "{'дождь': {'Иванов': 3, 'Петров': 0, 'Сидоров': -2, 'Козлов': 1, 'Новиков': -2}, 'снег': {'Петров': 0, 'Иванов': 1, 'Козлов': 1, 'Новиков': -1, 'Сидоров': -1}, 'солнечно': {'Петров': 0, 'Иванов': 0, 'Сидоров': 0, 'Козлов': 1, 'Новиков': -1}, 'облачно': {'Иванов': 4, 'Сидоров': 0, 'Козлов': -1, 'Новиков': 0, 'Петров': -3}}\n"
          ]
        }
      ],
      "source": [
        "for i in range(17):\n",
        "    weather = random.choice(weather_list)\n",
        "    names = random.sample(names_list, len(names_list))\n",
        "    scores = [1 if i == 0 else -1 if i == len(names) - 1 else 0 for i in range(len(names))]  # создаем список с оценками\n",
        "    results = dict(zip(names, scores)) # объединяем\n",
        "\n",
        "    # Обновление результатов\n",
        "    if weather in races_result:\n",
        "        for name, points in results.items(): # возвращает все пары «ключ — значение»\n",
        "           races_result[weather][name] += points\n",
        "    else:\n",
        "        races_result[weather] = results\n",
        "\n",
        "    # Повышение и понижение пилотов с наибольшими и наименьшими баллами\n",
        "    max_scorer = max(races_result[weather], key=races_result[weather].get) # здесь имя пилота\n",
        "    min_scorer = min(races_result[weather], key=races_result[weather].get)\n",
        "\n",
        "    # Повышаем максимального пилота на одну позицию\n",
        "    max_index = names.index(max_scorer)  #сморим индекс пилота с максимальным колвом очков\n",
        "    if max_index > 0:\n",
        "        names[max_index], names[max_index - 1] = names[max_index - 1], names[max_index]\n",
        "\n",
        "    # Понижаем минимального пилота на одну позицию\n",
        "    min_index = names.index(min_scorer)\n",
        "    if min_index < len(names) - 1:\n",
        "        names[min_index], names[min_index + 1] = names[min_index + 1], names[min_index]\n",
        "\n",
        "# Выводим окончательные результаты после всех заездов\n",
        "print(\"Окончательные результаты:\")\n",
        "for weather, results in races_result.items():\n",
        "    print(f\"Погода: {weather}\")\n",
        "    for name, score in results.items():\n",
        "        print(f\"{name}: {score}\")\n",
        "print(races_result)"
      ]
    }
  ],
  "metadata": {
    "colab": {
      "provenance": [],
      "authorship_tag": "ABX9TyMjtWARiPSkP3C8zPnh8dUk",
      "include_colab_link": true
    },
    "kernelspec": {
      "display_name": "Python 3",
      "name": "python3"
    },
    "language_info": {
      "name": "python"
    }
  },
  "nbformat": 4,
  "nbformat_minor": 0
}